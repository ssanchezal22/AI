{
  "nbformat": 4,
  "nbformat_minor": 0,
  "metadata": {
    "colab": {
      "provenance": []
    },
    "kernelspec": {
      "name": "python3",
      "display_name": "Python 3"
    },
    "language_info": {
      "name": "python"
    }
  },
  "cells": [
    {
      "cell_type": "markdown",
      "source": [
        "#Nota: Subir el archivo de base de datos localmente"
      ],
      "metadata": {
        "id": "UtZ4bQoVpcuS"
      }
    },
    {
      "cell_type": "markdown",
      "source": [
        "##Importar datos"
      ],
      "metadata": {
        "id": "v85pheEJJpPt"
      }
    },
    {
      "cell_type": "code",
      "source": [
        "import pandas as pd\n",
        "df = pd.read_csv('UK_Accident.csv', sep = ',')\n",
        "df.head(5)"
      ],
      "metadata": {
        "id": "pV9W5bHTLHHN"
      },
      "execution_count": null,
      "outputs": []
    },
    {
      "cell_type": "code",
      "source": [
        "#Se elimina columna con los indices, ya que pandas los agrega automaticamente\n",
        "df = df.drop('Unnamed: 0', axis = 1)"
      ],
      "metadata": {
        "id": "os-CSomYYoNv"
      },
      "execution_count": null,
      "outputs": []
    },
    {
      "cell_type": "code",
      "source": [
        "#Datos faltantes\n",
        "faltantes = df.isnull().sum().sum()\n",
        "print(f'La proporcion de datos faltantes es {round((faltantes/(len(df)*len(list(df.columns))))*100, 2)}%')"
      ],
      "metadata": {
        "colab": {
          "base_uri": "https://localhost:8080/"
        },
        "id": "2Cs-vLQlPBhS",
        "outputId": "7f30da14-422b-4845-d39a-c089be1200b3"
      },
      "execution_count": null,
      "outputs": [
        {
          "output_type": "stream",
          "name": "stdout",
          "text": [
            "La proporcion de datos faltantes es 0.23%\n"
          ]
        }
      ]
    },
    {
      "cell_type": "code",
      "source": [
        "df.isnull().sum()"
      ],
      "metadata": {
        "colab": {
          "base_uri": "https://localhost:8080/"
        },
        "id": "-AZZXL_lPwh6",
        "outputId": "125c9ebf-1d5e-4364-befd-d02194ab9770"
      },
      "execution_count": null,
      "outputs": [
        {
          "output_type": "execute_result",
          "data": {
            "text/plain": [
              "Accident_Index                                      0\n",
              "Location_Easting_OSGR                             101\n",
              "Location_Northing_OSGR                              0\n",
              "Longitude                                         101\n",
              "Latitude                                            0\n",
              "Police_Force                                        0\n",
              "Accident_Severity                                   0\n",
              "Number_of_Vehicles                                  0\n",
              "Number_of_Casualties                                0\n",
              "Date                                                0\n",
              "Day_of_Week                                         0\n",
              "Time                                              117\n",
              "Local_Authority_(District)                          0\n",
              "Local_Authority_(Highway)                           0\n",
              "1st_Road_Class                                      0\n",
              "1st_Road_Number                                     0\n",
              "Road_Type                                           0\n",
              "Speed_limit                                         0\n",
              "Junction_Control                                    0\n",
              "2nd_Road_Class                                      0\n",
              "2nd_Road_Number                                     0\n",
              "Pedestrian_Crossing-Human_Control                  17\n",
              "Pedestrian_Crossing-Physical_Facilities            34\n",
              "Light_Conditions                                    0\n",
              "Weather_Conditions                                  0\n",
              "Road_Surface_Conditions                             0\n",
              "Special_Conditions_at_Site                          0\n",
              "Carriageway_Hazards                                 0\n",
              "Urban_or_Rural_Area                                 0\n",
              "Did_Police_Officer_Attend_Scene_of_Accident         0\n",
              "LSOA_of_Accident_Location                      108238\n",
              "Year                                                0\n",
              "dtype: int64"
            ]
          },
          "metadata": {},
          "execution_count": 25
        }
      ]
    },
    {
      "cell_type": "markdown",
      "source": [
        "##Hay datos faltantes en al menos 3 columnas, además se observa que en cuanto a los datos vacíos estan como NaN pero hay algunos registros como None, se debe revisar si los toma como vacíos, en caso contrario, reemplazar por NaN"
      ],
      "metadata": {
        "id": "sLjPG2yJP1V_"
      }
    },
    {
      "cell_type": "code",
      "source": [
        "df.info()"
      ],
      "metadata": {
        "colab": {
          "base_uri": "https://localhost:8080/"
        },
        "id": "eMI4UVR6ZM_Z",
        "outputId": "b1d69648-0342-4f8c-e8c6-976a0ff8f33d"
      },
      "execution_count": null,
      "outputs": [
        {
          "output_type": "stream",
          "name": "stdout",
          "text": [
            "<class 'pandas.core.frame.DataFrame'>\n",
            "RangeIndex: 1504150 entries, 0 to 1504149\n",
            "Data columns (total 32 columns):\n",
            " #   Column                                       Non-Null Count    Dtype  \n",
            "---  ------                                       --------------    -----  \n",
            " 0   Accident_Index                               1504150 non-null  object \n",
            " 1   Location_Easting_OSGR                        1504049 non-null  float64\n",
            " 2   Location_Northing_OSGR                       1504150 non-null  float64\n",
            " 3   Longitude                                    1504049 non-null  float64\n",
            " 4   Latitude                                     1504150 non-null  float64\n",
            " 5   Police_Force                                 1504150 non-null  int64  \n",
            " 6   Accident_Severity                            1504150 non-null  int64  \n",
            " 7   Number_of_Vehicles                           1504150 non-null  int64  \n",
            " 8   Number_of_Casualties                         1504150 non-null  int64  \n",
            " 9   Date                                         1504150 non-null  object \n",
            " 10  Day_of_Week                                  1504150 non-null  int64  \n",
            " 11  Time                                         1504033 non-null  object \n",
            " 12  Local_Authority_(District)                   1504150 non-null  int64  \n",
            " 13  Local_Authority_(Highway)                    1504150 non-null  object \n",
            " 14  1st_Road_Class                               1504150 non-null  int64  \n",
            " 15  1st_Road_Number                              1504150 non-null  int64  \n",
            " 16  Road_Type                                    1504150 non-null  object \n",
            " 17  Speed_limit                                  1504150 non-null  int64  \n",
            " 18  Junction_Control                             1504150 non-null  object \n",
            " 19  2nd_Road_Class                               1504150 non-null  int64  \n",
            " 20  2nd_Road_Number                              1504150 non-null  int64  \n",
            " 21  Pedestrian_Crossing-Human_Control            1504133 non-null  object \n",
            " 22  Pedestrian_Crossing-Physical_Facilities      1504116 non-null  object \n",
            " 23  Light_Conditions                             1504150 non-null  object \n",
            " 24  Weather_Conditions                           1504150 non-null  object \n",
            " 25  Road_Surface_Conditions                      1504150 non-null  object \n",
            " 26  Special_Conditions_at_Site                   1504150 non-null  object \n",
            " 27  Carriageway_Hazards                          1504150 non-null  object \n",
            " 28  Urban_or_Rural_Area                          1504150 non-null  int64  \n",
            " 29  Did_Police_Officer_Attend_Scene_of_Accident  1504150 non-null  object \n",
            " 30  LSOA_of_Accident_Location                    1395912 non-null  object \n",
            " 31  Year                                         1504150 non-null  int64  \n",
            "dtypes: float64(4), int64(13), object(15)\n",
            "memory usage: 367.2+ MB\n"
          ]
        }
      ]
    },
    {
      "cell_type": "code",
      "source": [
        "df.describe()"
      ],
      "metadata": {
        "colab": {
          "base_uri": "https://localhost:8080/",
          "height": 320
        },
        "id": "_9z3jqwnYUXU",
        "outputId": "0c3a88b0-5605-45b9-dd25-a6dc45250d8f"
      },
      "execution_count": null,
      "outputs": [
        {
          "output_type": "execute_result",
          "data": {
            "text/plain": [
              "       Location_Easting_OSGR  Location_Northing_OSGR     Longitude  \\\n",
              "count           1.504049e+06            1.504150e+06  1.504049e+06   \n",
              "mean            4.396214e+05            3.001382e+05 -1.436625e+00   \n",
              "std             9.511616e+04            1.610218e+05  1.398078e+00   \n",
              "min             6.495000e+04            0.000000e+00 -7.516225e+00   \n",
              "25%             3.750600e+05            1.782600e+05 -2.373902e+00   \n",
              "50%             4.399600e+05            2.688000e+05 -1.403714e+00   \n",
              "75%             5.230600e+05            3.981500e+05 -2.215100e-01   \n",
              "max             6.553700e+05            1.208800e+06  1.759398e+00   \n",
              "\n",
              "           Latitude  Police_Force  Accident_Severity  Number_of_Vehicles  \\\n",
              "count  1.504150e+06  1.504150e+06       1.504150e+06        1.504150e+06   \n",
              "mean   5.258587e+01  3.020536e+01       2.838190e+00        1.831606e+00   \n",
              "std    1.512524e+00  2.551603e+01       4.018423e-01        7.147586e-01   \n",
              "min    0.000000e+00  1.000000e+00       1.000000e+00        1.000000e+00   \n",
              "25%    5.149009e+01  6.000000e+00       3.000000e+00        1.000000e+00   \n",
              "50%    5.230888e+01  3.000000e+01       3.000000e+00        2.000000e+00   \n",
              "75%    5.347855e+01  4.500000e+01       3.000000e+00        2.000000e+00   \n",
              "max    6.075754e+01  9.800000e+01       3.000000e+00        6.700000e+01   \n",
              "\n",
              "       Number_of_Casualties   Day_of_Week  Local_Authority_(District)  \\\n",
              "count          1.504150e+06  1.504150e+06                1.504150e+06   \n",
              "mean           1.350960e+00  4.118607e+00                3.476149e+02   \n",
              "std            8.253345e-01  1.924405e+00                2.594292e+02   \n",
              "min            1.000000e+00  1.000000e+00                1.000000e+00   \n",
              "25%            1.000000e+00  2.000000e+00                1.100000e+02   \n",
              "50%            1.000000e+00  4.000000e+00                3.220000e+02   \n",
              "75%            1.000000e+00  6.000000e+00                5.180000e+02   \n",
              "max            9.300000e+01  7.000000e+00                9.410000e+02   \n",
              "\n",
              "       1st_Road_Class  1st_Road_Number   Speed_limit  2nd_Road_Class  \\\n",
              "count    1.504150e+06     1.504150e+06  1.504150e+06    1.504150e+06   \n",
              "mean     4.087999e+00     1.009919e+03  3.900540e+01    2.675084e+00   \n",
              "std      1.428936e+00     1.823518e+03  1.413993e+01    3.205539e+00   \n",
              "min      1.000000e+00    -1.000000e+00  1.000000e+01   -1.000000e+00   \n",
              "25%      3.000000e+00     0.000000e+00  3.000000e+01   -1.000000e+00   \n",
              "50%      4.000000e+00     1.290000e+02  3.000000e+01    3.000000e+00   \n",
              "75%      6.000000e+00     7.250000e+02  5.000000e+01    6.000000e+00   \n",
              "max      6.000000e+00     9.999000e+03  7.000000e+01    6.000000e+00   \n",
              "\n",
              "       2nd_Road_Number  Urban_or_Rural_Area          Year  \n",
              "count     1.504150e+06         1.504150e+06  1.504150e+06  \n",
              "mean      3.815684e+02         1.353871e+00  2.009370e+03  \n",
              "std       1.302555e+03         4.783534e-01  3.013497e+00  \n",
              "min      -1.000000e+00         1.000000e+00  2.005000e+03  \n",
              "25%       0.000000e+00         1.000000e+00  2.006000e+03  \n",
              "50%       0.000000e+00         1.000000e+00  2.010000e+03  \n",
              "75%       0.000000e+00         2.000000e+00  2.012000e+03  \n",
              "max       9.999000e+03         3.000000e+00  2.014000e+03  "
            ],
            "text/html": [
              "\n",
              "  <div id=\"df-e9fa684b-372c-4b7d-99d5-e82017c6d3cb\" class=\"colab-df-container\">\n",
              "    <div>\n",
              "<style scoped>\n",
              "    .dataframe tbody tr th:only-of-type {\n",
              "        vertical-align: middle;\n",
              "    }\n",
              "\n",
              "    .dataframe tbody tr th {\n",
              "        vertical-align: top;\n",
              "    }\n",
              "\n",
              "    .dataframe thead th {\n",
              "        text-align: right;\n",
              "    }\n",
              "</style>\n",
              "<table border=\"1\" class=\"dataframe\">\n",
              "  <thead>\n",
              "    <tr style=\"text-align: right;\">\n",
              "      <th></th>\n",
              "      <th>Location_Easting_OSGR</th>\n",
              "      <th>Location_Northing_OSGR</th>\n",
              "      <th>Longitude</th>\n",
              "      <th>Latitude</th>\n",
              "      <th>Police_Force</th>\n",
              "      <th>Accident_Severity</th>\n",
              "      <th>Number_of_Vehicles</th>\n",
              "      <th>Number_of_Casualties</th>\n",
              "      <th>Day_of_Week</th>\n",
              "      <th>Local_Authority_(District)</th>\n",
              "      <th>1st_Road_Class</th>\n",
              "      <th>1st_Road_Number</th>\n",
              "      <th>Speed_limit</th>\n",
              "      <th>2nd_Road_Class</th>\n",
              "      <th>2nd_Road_Number</th>\n",
              "      <th>Urban_or_Rural_Area</th>\n",
              "      <th>Year</th>\n",
              "    </tr>\n",
              "  </thead>\n",
              "  <tbody>\n",
              "    <tr>\n",
              "      <th>count</th>\n",
              "      <td>1.504049e+06</td>\n",
              "      <td>1.504150e+06</td>\n",
              "      <td>1.504049e+06</td>\n",
              "      <td>1.504150e+06</td>\n",
              "      <td>1.504150e+06</td>\n",
              "      <td>1.504150e+06</td>\n",
              "      <td>1.504150e+06</td>\n",
              "      <td>1.504150e+06</td>\n",
              "      <td>1.504150e+06</td>\n",
              "      <td>1.504150e+06</td>\n",
              "      <td>1.504150e+06</td>\n",
              "      <td>1.504150e+06</td>\n",
              "      <td>1.504150e+06</td>\n",
              "      <td>1.504150e+06</td>\n",
              "      <td>1.504150e+06</td>\n",
              "      <td>1.504150e+06</td>\n",
              "      <td>1.504150e+06</td>\n",
              "    </tr>\n",
              "    <tr>\n",
              "      <th>mean</th>\n",
              "      <td>4.396214e+05</td>\n",
              "      <td>3.001382e+05</td>\n",
              "      <td>-1.436625e+00</td>\n",
              "      <td>5.258587e+01</td>\n",
              "      <td>3.020536e+01</td>\n",
              "      <td>2.838190e+00</td>\n",
              "      <td>1.831606e+00</td>\n",
              "      <td>1.350960e+00</td>\n",
              "      <td>4.118607e+00</td>\n",
              "      <td>3.476149e+02</td>\n",
              "      <td>4.087999e+00</td>\n",
              "      <td>1.009919e+03</td>\n",
              "      <td>3.900540e+01</td>\n",
              "      <td>2.675084e+00</td>\n",
              "      <td>3.815684e+02</td>\n",
              "      <td>1.353871e+00</td>\n",
              "      <td>2.009370e+03</td>\n",
              "    </tr>\n",
              "    <tr>\n",
              "      <th>std</th>\n",
              "      <td>9.511616e+04</td>\n",
              "      <td>1.610218e+05</td>\n",
              "      <td>1.398078e+00</td>\n",
              "      <td>1.512524e+00</td>\n",
              "      <td>2.551603e+01</td>\n",
              "      <td>4.018423e-01</td>\n",
              "      <td>7.147586e-01</td>\n",
              "      <td>8.253345e-01</td>\n",
              "      <td>1.924405e+00</td>\n",
              "      <td>2.594292e+02</td>\n",
              "      <td>1.428936e+00</td>\n",
              "      <td>1.823518e+03</td>\n",
              "      <td>1.413993e+01</td>\n",
              "      <td>3.205539e+00</td>\n",
              "      <td>1.302555e+03</td>\n",
              "      <td>4.783534e-01</td>\n",
              "      <td>3.013497e+00</td>\n",
              "    </tr>\n",
              "    <tr>\n",
              "      <th>min</th>\n",
              "      <td>6.495000e+04</td>\n",
              "      <td>0.000000e+00</td>\n",
              "      <td>-7.516225e+00</td>\n",
              "      <td>0.000000e+00</td>\n",
              "      <td>1.000000e+00</td>\n",
              "      <td>1.000000e+00</td>\n",
              "      <td>1.000000e+00</td>\n",
              "      <td>1.000000e+00</td>\n",
              "      <td>1.000000e+00</td>\n",
              "      <td>1.000000e+00</td>\n",
              "      <td>1.000000e+00</td>\n",
              "      <td>-1.000000e+00</td>\n",
              "      <td>1.000000e+01</td>\n",
              "      <td>-1.000000e+00</td>\n",
              "      <td>-1.000000e+00</td>\n",
              "      <td>1.000000e+00</td>\n",
              "      <td>2.005000e+03</td>\n",
              "    </tr>\n",
              "    <tr>\n",
              "      <th>25%</th>\n",
              "      <td>3.750600e+05</td>\n",
              "      <td>1.782600e+05</td>\n",
              "      <td>-2.373902e+00</td>\n",
              "      <td>5.149009e+01</td>\n",
              "      <td>6.000000e+00</td>\n",
              "      <td>3.000000e+00</td>\n",
              "      <td>1.000000e+00</td>\n",
              "      <td>1.000000e+00</td>\n",
              "      <td>2.000000e+00</td>\n",
              "      <td>1.100000e+02</td>\n",
              "      <td>3.000000e+00</td>\n",
              "      <td>0.000000e+00</td>\n",
              "      <td>3.000000e+01</td>\n",
              "      <td>-1.000000e+00</td>\n",
              "      <td>0.000000e+00</td>\n",
              "      <td>1.000000e+00</td>\n",
              "      <td>2.006000e+03</td>\n",
              "    </tr>\n",
              "    <tr>\n",
              "      <th>50%</th>\n",
              "      <td>4.399600e+05</td>\n",
              "      <td>2.688000e+05</td>\n",
              "      <td>-1.403714e+00</td>\n",
              "      <td>5.230888e+01</td>\n",
              "      <td>3.000000e+01</td>\n",
              "      <td>3.000000e+00</td>\n",
              "      <td>2.000000e+00</td>\n",
              "      <td>1.000000e+00</td>\n",
              "      <td>4.000000e+00</td>\n",
              "      <td>3.220000e+02</td>\n",
              "      <td>4.000000e+00</td>\n",
              "      <td>1.290000e+02</td>\n",
              "      <td>3.000000e+01</td>\n",
              "      <td>3.000000e+00</td>\n",
              "      <td>0.000000e+00</td>\n",
              "      <td>1.000000e+00</td>\n",
              "      <td>2.010000e+03</td>\n",
              "    </tr>\n",
              "    <tr>\n",
              "      <th>75%</th>\n",
              "      <td>5.230600e+05</td>\n",
              "      <td>3.981500e+05</td>\n",
              "      <td>-2.215100e-01</td>\n",
              "      <td>5.347855e+01</td>\n",
              "      <td>4.500000e+01</td>\n",
              "      <td>3.000000e+00</td>\n",
              "      <td>2.000000e+00</td>\n",
              "      <td>1.000000e+00</td>\n",
              "      <td>6.000000e+00</td>\n",
              "      <td>5.180000e+02</td>\n",
              "      <td>6.000000e+00</td>\n",
              "      <td>7.250000e+02</td>\n",
              "      <td>5.000000e+01</td>\n",
              "      <td>6.000000e+00</td>\n",
              "      <td>0.000000e+00</td>\n",
              "      <td>2.000000e+00</td>\n",
              "      <td>2.012000e+03</td>\n",
              "    </tr>\n",
              "    <tr>\n",
              "      <th>max</th>\n",
              "      <td>6.553700e+05</td>\n",
              "      <td>1.208800e+06</td>\n",
              "      <td>1.759398e+00</td>\n",
              "      <td>6.075754e+01</td>\n",
              "      <td>9.800000e+01</td>\n",
              "      <td>3.000000e+00</td>\n",
              "      <td>6.700000e+01</td>\n",
              "      <td>9.300000e+01</td>\n",
              "      <td>7.000000e+00</td>\n",
              "      <td>9.410000e+02</td>\n",
              "      <td>6.000000e+00</td>\n",
              "      <td>9.999000e+03</td>\n",
              "      <td>7.000000e+01</td>\n",
              "      <td>6.000000e+00</td>\n",
              "      <td>9.999000e+03</td>\n",
              "      <td>3.000000e+00</td>\n",
              "      <td>2.014000e+03</td>\n",
              "    </tr>\n",
              "  </tbody>\n",
              "</table>\n",
              "</div>\n",
              "    <div class=\"colab-df-buttons\">\n",
              "\n",
              "  <div class=\"colab-df-container\">\n",
              "    <button class=\"colab-df-convert\" onclick=\"convertToInteractive('df-e9fa684b-372c-4b7d-99d5-e82017c6d3cb')\"\n",
              "            title=\"Convert this dataframe to an interactive table.\"\n",
              "            style=\"display:none;\">\n",
              "\n",
              "  <svg xmlns=\"http://www.w3.org/2000/svg\" height=\"24px\" viewBox=\"0 -960 960 960\">\n",
              "    <path d=\"M120-120v-720h720v720H120Zm60-500h600v-160H180v160Zm220 220h160v-160H400v160Zm0 220h160v-160H400v160ZM180-400h160v-160H180v160Zm440 0h160v-160H620v160ZM180-180h160v-160H180v160Zm440 0h160v-160H620v160Z\"/>\n",
              "  </svg>\n",
              "    </button>\n",
              "\n",
              "  <style>\n",
              "    .colab-df-container {\n",
              "      display:flex;\n",
              "      gap: 12px;\n",
              "    }\n",
              "\n",
              "    .colab-df-convert {\n",
              "      background-color: #E8F0FE;\n",
              "      border: none;\n",
              "      border-radius: 50%;\n",
              "      cursor: pointer;\n",
              "      display: none;\n",
              "      fill: #1967D2;\n",
              "      height: 32px;\n",
              "      padding: 0 0 0 0;\n",
              "      width: 32px;\n",
              "    }\n",
              "\n",
              "    .colab-df-convert:hover {\n",
              "      background-color: #E2EBFA;\n",
              "      box-shadow: 0px 1px 2px rgba(60, 64, 67, 0.3), 0px 1px 3px 1px rgba(60, 64, 67, 0.15);\n",
              "      fill: #174EA6;\n",
              "    }\n",
              "\n",
              "    .colab-df-buttons div {\n",
              "      margin-bottom: 4px;\n",
              "    }\n",
              "\n",
              "    [theme=dark] .colab-df-convert {\n",
              "      background-color: #3B4455;\n",
              "      fill: #D2E3FC;\n",
              "    }\n",
              "\n",
              "    [theme=dark] .colab-df-convert:hover {\n",
              "      background-color: #434B5C;\n",
              "      box-shadow: 0px 1px 3px 1px rgba(0, 0, 0, 0.15);\n",
              "      filter: drop-shadow(0px 1px 2px rgba(0, 0, 0, 0.3));\n",
              "      fill: #FFFFFF;\n",
              "    }\n",
              "  </style>\n",
              "\n",
              "    <script>\n",
              "      const buttonEl =\n",
              "        document.querySelector('#df-e9fa684b-372c-4b7d-99d5-e82017c6d3cb button.colab-df-convert');\n",
              "      buttonEl.style.display =\n",
              "        google.colab.kernel.accessAllowed ? 'block' : 'none';\n",
              "\n",
              "      async function convertToInteractive(key) {\n",
              "        const element = document.querySelector('#df-e9fa684b-372c-4b7d-99d5-e82017c6d3cb');\n",
              "        const dataTable =\n",
              "          await google.colab.kernel.invokeFunction('convertToInteractive',\n",
              "                                                    [key], {});\n",
              "        if (!dataTable) return;\n",
              "\n",
              "        const docLinkHtml = 'Like what you see? Visit the ' +\n",
              "          '<a target=\"_blank\" href=https://colab.research.google.com/notebooks/data_table.ipynb>data table notebook</a>'\n",
              "          + ' to learn more about interactive tables.';\n",
              "        element.innerHTML = '';\n",
              "        dataTable['output_type'] = 'display_data';\n",
              "        await google.colab.output.renderOutput(dataTable, element);\n",
              "        const docLink = document.createElement('div');\n",
              "        docLink.innerHTML = docLinkHtml;\n",
              "        element.appendChild(docLink);\n",
              "      }\n",
              "    </script>\n",
              "  </div>\n",
              "\n",
              "\n",
              "<div id=\"df-0d6fe3d5-7209-4f2f-93f6-7504c7f1c1f9\">\n",
              "  <button class=\"colab-df-quickchart\" onclick=\"quickchart('df-0d6fe3d5-7209-4f2f-93f6-7504c7f1c1f9')\"\n",
              "            title=\"Suggest charts.\"\n",
              "            style=\"display:none;\">\n",
              "\n",
              "<svg xmlns=\"http://www.w3.org/2000/svg\" height=\"24px\"viewBox=\"0 0 24 24\"\n",
              "     width=\"24px\">\n",
              "    <g>\n",
              "        <path d=\"M19 3H5c-1.1 0-2 .9-2 2v14c0 1.1.9 2 2 2h14c1.1 0 2-.9 2-2V5c0-1.1-.9-2-2-2zM9 17H7v-7h2v7zm4 0h-2V7h2v10zm4 0h-2v-4h2v4z\"/>\n",
              "    </g>\n",
              "</svg>\n",
              "  </button>\n",
              "\n",
              "<style>\n",
              "  .colab-df-quickchart {\n",
              "      --bg-color: #E8F0FE;\n",
              "      --fill-color: #1967D2;\n",
              "      --hover-bg-color: #E2EBFA;\n",
              "      --hover-fill-color: #174EA6;\n",
              "      --disabled-fill-color: #AAA;\n",
              "      --disabled-bg-color: #DDD;\n",
              "  }\n",
              "\n",
              "  [theme=dark] .colab-df-quickchart {\n",
              "      --bg-color: #3B4455;\n",
              "      --fill-color: #D2E3FC;\n",
              "      --hover-bg-color: #434B5C;\n",
              "      --hover-fill-color: #FFFFFF;\n",
              "      --disabled-bg-color: #3B4455;\n",
              "      --disabled-fill-color: #666;\n",
              "  }\n",
              "\n",
              "  .colab-df-quickchart {\n",
              "    background-color: var(--bg-color);\n",
              "    border: none;\n",
              "    border-radius: 50%;\n",
              "    cursor: pointer;\n",
              "    display: none;\n",
              "    fill: var(--fill-color);\n",
              "    height: 32px;\n",
              "    padding: 0;\n",
              "    width: 32px;\n",
              "  }\n",
              "\n",
              "  .colab-df-quickchart:hover {\n",
              "    background-color: var(--hover-bg-color);\n",
              "    box-shadow: 0 1px 2px rgba(60, 64, 67, 0.3), 0 1px 3px 1px rgba(60, 64, 67, 0.15);\n",
              "    fill: var(--button-hover-fill-color);\n",
              "  }\n",
              "\n",
              "  .colab-df-quickchart-complete:disabled,\n",
              "  .colab-df-quickchart-complete:disabled:hover {\n",
              "    background-color: var(--disabled-bg-color);\n",
              "    fill: var(--disabled-fill-color);\n",
              "    box-shadow: none;\n",
              "  }\n",
              "\n",
              "  .colab-df-spinner {\n",
              "    border: 2px solid var(--fill-color);\n",
              "    border-color: transparent;\n",
              "    border-bottom-color: var(--fill-color);\n",
              "    animation:\n",
              "      spin 1s steps(1) infinite;\n",
              "  }\n",
              "\n",
              "  @keyframes spin {\n",
              "    0% {\n",
              "      border-color: transparent;\n",
              "      border-bottom-color: var(--fill-color);\n",
              "      border-left-color: var(--fill-color);\n",
              "    }\n",
              "    20% {\n",
              "      border-color: transparent;\n",
              "      border-left-color: var(--fill-color);\n",
              "      border-top-color: var(--fill-color);\n",
              "    }\n",
              "    30% {\n",
              "      border-color: transparent;\n",
              "      border-left-color: var(--fill-color);\n",
              "      border-top-color: var(--fill-color);\n",
              "      border-right-color: var(--fill-color);\n",
              "    }\n",
              "    40% {\n",
              "      border-color: transparent;\n",
              "      border-right-color: var(--fill-color);\n",
              "      border-top-color: var(--fill-color);\n",
              "    }\n",
              "    60% {\n",
              "      border-color: transparent;\n",
              "      border-right-color: var(--fill-color);\n",
              "    }\n",
              "    80% {\n",
              "      border-color: transparent;\n",
              "      border-right-color: var(--fill-color);\n",
              "      border-bottom-color: var(--fill-color);\n",
              "    }\n",
              "    90% {\n",
              "      border-color: transparent;\n",
              "      border-bottom-color: var(--fill-color);\n",
              "    }\n",
              "  }\n",
              "</style>\n",
              "\n",
              "  <script>\n",
              "    async function quickchart(key) {\n",
              "      const quickchartButtonEl =\n",
              "        document.querySelector('#' + key + ' button');\n",
              "      quickchartButtonEl.disabled = true;  // To prevent multiple clicks.\n",
              "      quickchartButtonEl.classList.add('colab-df-spinner');\n",
              "      try {\n",
              "        const charts = await google.colab.kernel.invokeFunction(\n",
              "            'suggestCharts', [key], {});\n",
              "      } catch (error) {\n",
              "        console.error('Error during call to suggestCharts:', error);\n",
              "      }\n",
              "      quickchartButtonEl.classList.remove('colab-df-spinner');\n",
              "      quickchartButtonEl.classList.add('colab-df-quickchart-complete');\n",
              "    }\n",
              "    (() => {\n",
              "      let quickchartButtonEl =\n",
              "        document.querySelector('#df-0d6fe3d5-7209-4f2f-93f6-7504c7f1c1f9 button');\n",
              "      quickchartButtonEl.style.display =\n",
              "        google.colab.kernel.accessAllowed ? 'block' : 'none';\n",
              "    })();\n",
              "  </script>\n",
              "</div>\n",
              "    </div>\n",
              "  </div>\n"
            ]
          },
          "metadata": {},
          "execution_count": 27
        }
      ]
    },
    {
      "cell_type": "markdown",
      "source": [
        "#Coerción de variables\n",
        "##'date' a datetime y 'Did_Police_Officer_Attend_Scene_of_Accident' a int"
      ],
      "metadata": {
        "id": "yqTLPS7tbNLW"
      }
    },
    {
      "cell_type": "code",
      "source": [
        "df['Date'] = pd.to_datetime(df['Date'], format = '%d/%m/%Y')\n",
        "\n",
        "df['Did_Police_Officer_Attend_Scene_of_Accident'] = df['Did_Police_Officer_Attend_Scene_of_Accident'].replace(to_replace = 'Yes', value = 1)\n",
        "df['Did_Police_Officer_Attend_Scene_of_Accident'] = df['Did_Police_Officer_Attend_Scene_of_Accident'].replace(to_replace = 'No', value = 0)\n",
        "df['Did_Police_Officer_Attend_Scene_of_Accident'] = df['Did_Police_Officer_Attend_Scene_of_Accident'].astype(int)"
      ],
      "metadata": {
        "id": "kCrqJc3kddHT"
      },
      "execution_count": null,
      "outputs": []
    },
    {
      "cell_type": "markdown",
      "source": [
        "##Limpieza de los datos"
      ],
      "metadata": {
        "id": "CwHx16oTfcVA"
      }
    },
    {
      "cell_type": "code",
      "source": [
        "#revision de datos faltantes\n",
        "df[df['Junction_Control'] == 'None']['Junction_Control'].isnull().sum()"
      ],
      "metadata": {
        "colab": {
          "base_uri": "https://localhost:8080/"
        },
        "id": "vEJCDGR3hNGl",
        "outputId": "23981663-cd89-485a-91d5-96fa74a842cc"
      },
      "execution_count": null,
      "outputs": [
        {
          "output_type": "execute_result",
          "data": {
            "text/plain": [
              "0"
            ]
          },
          "metadata": {},
          "execution_count": 151
        }
      ]
    },
    {
      "cell_type": "code",
      "source": [
        "faltantes = df['LSOA_of_Accident_Location'].isnull()\n",
        "df[faltantes]['LSOA_of_Accident_Location']"
      ],
      "metadata": {
        "colab": {
          "base_uri": "https://localhost:8080/"
        },
        "id": "EUy2ARnlh5Ki",
        "outputId": "8ab693a5-4290-4323-c257-f1589923759e"
      },
      "execution_count": null,
      "outputs": [
        {
          "output_type": "execute_result",
          "data": {
            "text/plain": [
              "37         NaN\n",
              "751        NaN\n",
              "828        NaN\n",
              "836        NaN\n",
              "884        NaN\n",
              "          ... \n",
              "1504145    NaN\n",
              "1504146    NaN\n",
              "1504147    NaN\n",
              "1504148    NaN\n",
              "1504149    NaN\n",
              "Name: LSOA_of_Accident_Location, Length: 108238, dtype: object"
            ]
          },
          "metadata": {},
          "execution_count": 84
        }
      ]
    },
    {
      "cell_type": "markdown",
      "source": [
        "##None lo está tomando como un dato, se reemplazará todos los 'None' por None"
      ],
      "metadata": {
        "id": "Rfvy7DuChxE1"
      }
    },
    {
      "cell_type": "code",
      "source": [
        "df = df.replace(to_replace='None', value=None)"
      ],
      "metadata": {
        "id": "Q7YZSQDli2BQ"
      },
      "execution_count": null,
      "outputs": []
    },
    {
      "cell_type": "code",
      "source": [
        "#revision de datos faltantes\n",
        "faltantes = df.isnull().sum().sum()\n",
        "faltantes"
      ],
      "metadata": {
        "colab": {
          "base_uri": "https://localhost:8080/"
        },
        "id": "pFdiqTR3qT0z",
        "outputId": "154c6c39-e9e4-46f9-b5ae-6455a9245619"
      },
      "execution_count": null,
      "outputs": [
        {
          "output_type": "execute_result",
          "data": {
            "text/plain": [
              "3655911"
            ]
          },
          "metadata": {},
          "execution_count": 153
        }
      ]
    },
    {
      "cell_type": "code",
      "source": [
        "print(f'La proporcion real de datos faltantes es {round((faltantes/(len(df)*len(list(df.columns))))*100, 2)}%')"
      ],
      "metadata": {
        "colab": {
          "base_uri": "https://localhost:8080/"
        },
        "id": "ZkqRJkcuqTcF",
        "outputId": "c0027420-796e-4053-8f58-ae0daa52ea64"
      },
      "execution_count": null,
      "outputs": [
        {
          "output_type": "stream",
          "name": "stdout",
          "text": [
            "La proporcion real de datos faltantes es 7.6%\n"
          ]
        }
      ]
    },
    {
      "cell_type": "code",
      "source": [
        "#En la var Special_condition_at_site Carriageway_Hazards los datos vacios\n",
        "#puede ser reemplazados por 'No special' y 'No hazards' respectivamente\n",
        "#Esto indicaria que no hay condicion especial en el sitio ni peligros.\n",
        "df['Special_Conditions_at_Site'].fillna('No special', inplace = True)\n",
        "\n",
        "df['Carriageway_Hazards'].fillna('No hazard', inplace = True)\n",
        "\n",
        "#En la variable time, los datos faltantes corresponden a la hora 00:00\n",
        "df['Time'].fillna('00:00', inplace = True)"
      ],
      "metadata": {
        "id": "fUgeMyeTixaR"
      },
      "execution_count": null,
      "outputs": []
    },
    {
      "cell_type": "code",
      "source": [
        "#revision de datos faltantes\n",
        "faltantes = df.isnull().sum().sum()\n",
        "faltantes"
      ],
      "metadata": {
        "id": "VQLIZ37pi9tx",
        "colab": {
          "base_uri": "https://localhost:8080/"
        },
        "outputId": "60222acd-fd95-4a89-c641-4b188ca3d02b"
      },
      "execution_count": null,
      "outputs": [
        {
          "output_type": "execute_result",
          "data": {
            "text/plain": [
              "711326"
            ]
          },
          "metadata": {},
          "execution_count": 157
        }
      ]
    },
    {
      "cell_type": "code",
      "source": [
        "print(f'La proporcion de datos faltantes tras estrategia de imputacion es {round((faltantes/(len(df)*len(list(df.columns))))*100, 2)}%')"
      ],
      "metadata": {
        "colab": {
          "base_uri": "https://localhost:8080/"
        },
        "id": "aKN2TspEjXrO",
        "outputId": "f1ebab23-d237-47ce-84c9-5c52175c7f8c"
      },
      "execution_count": null,
      "outputs": [
        {
          "output_type": "stream",
          "name": "stdout",
          "text": [
            "La proporcion de datos faltantes tras estrategia de imputacion es 1.48%\n"
          ]
        }
      ]
    },
    {
      "cell_type": "markdown",
      "source": [
        "##Se decide estandarizar las variables de interes para comparar modelos con las variables estandarizadas y sin estandarizar"
      ],
      "metadata": {
        "id": "HGVmIRkdGHmh"
      }
    },
    {
      "cell_type": "code",
      "source": [
        "#Se guardan las variables numericas en df2 y se estandarizan\n",
        "df2 = df.copy()\n",
        "df2 = df2.iloc[:,[6,7,8,10,11,17,28,29,31]] #Se incluye unicamente algunas vars cuantitativas de interes\n",
        "\n",
        "# Forma de estandarización 1 usando stats.zscore de scipy\n",
        "import pandas as pd\n",
        "import scipy\n",
        "from scipy import stats\n",
        "for i in list(df2.columns):\n",
        "#si i == Did_Police_Officer_Attend_Scene_of_Accident no estandariza ya que es 1 o 0\n",
        "#si i == Time no estandariza ya que es la hora\n",
        "  if i != list(df2.columns)[6] and i != list(df2.columns)[4]:\n",
        "    df2[i] = stats.zscore(df2[i])\n",
        "  else:\n",
        "    pass\n"
      ],
      "metadata": {
        "id": "HyqmZo6rJTqE"
      },
      "execution_count": null,
      "outputs": []
    },
    {
      "cell_type": "code",
      "source": [
        "df2.head(5)"
      ],
      "metadata": {
        "colab": {
          "base_uri": "https://localhost:8080/",
          "height": 226
        },
        "id": "6tQ1289TtHm9",
        "outputId": "c3a58b09-8173-4abd-ed40-05ad77c93166"
      },
      "execution_count": null,
      "outputs": [
        {
          "output_type": "execute_result",
          "data": {
            "text/plain": [
              "   Accident_Severity  Number_of_Vehicles  Number_of_Casualties  Day_of_Week  \\\n",
              "0           -2.08587           -1.163478             -0.425233    -0.581274   \n",
              "1            0.40267           -1.163478             -0.425233    -0.061633   \n",
              "2            0.40267            0.235596             -0.425233     0.458008   \n",
              "3            0.40267           -1.163478             -0.425233     0.977650   \n",
              "4            0.40267           -1.163478             -0.425233    -1.100916   \n",
              "\n",
              "   Speed_limit  Urban_or_Rural_Area  \\\n",
              "0    -0.636877            -0.739769   \n",
              "1    -0.636877            -0.739769   \n",
              "2    -0.636877            -0.739769   \n",
              "3    -0.636877            -0.739769   \n",
              "4    -0.636877            -0.739769   \n",
              "\n",
              "   Did_Police_Officer_Attend_Scene_of_Accident      Year  \n",
              "0                                            1 -1.450048  \n",
              "1                                            1 -1.450048  \n",
              "2                                            1 -1.450048  \n",
              "3                                            1 -1.450048  \n",
              "4                                            1 -1.450048  "
            ],
            "text/html": [
              "\n",
              "  <div id=\"df-d3aa4561-fb3c-4356-8251-b00aaa2da162\" class=\"colab-df-container\">\n",
              "    <div>\n",
              "<style scoped>\n",
              "    .dataframe tbody tr th:only-of-type {\n",
              "        vertical-align: middle;\n",
              "    }\n",
              "\n",
              "    .dataframe tbody tr th {\n",
              "        vertical-align: top;\n",
              "    }\n",
              "\n",
              "    .dataframe thead th {\n",
              "        text-align: right;\n",
              "    }\n",
              "</style>\n",
              "<table border=\"1\" class=\"dataframe\">\n",
              "  <thead>\n",
              "    <tr style=\"text-align: right;\">\n",
              "      <th></th>\n",
              "      <th>Accident_Severity</th>\n",
              "      <th>Number_of_Vehicles</th>\n",
              "      <th>Number_of_Casualties</th>\n",
              "      <th>Day_of_Week</th>\n",
              "      <th>Speed_limit</th>\n",
              "      <th>Urban_or_Rural_Area</th>\n",
              "      <th>Did_Police_Officer_Attend_Scene_of_Accident</th>\n",
              "      <th>Year</th>\n",
              "    </tr>\n",
              "  </thead>\n",
              "  <tbody>\n",
              "    <tr>\n",
              "      <th>0</th>\n",
              "      <td>-2.08587</td>\n",
              "      <td>-1.163478</td>\n",
              "      <td>-0.425233</td>\n",
              "      <td>-0.581274</td>\n",
              "      <td>-0.636877</td>\n",
              "      <td>-0.739769</td>\n",
              "      <td>1</td>\n",
              "      <td>-1.450048</td>\n",
              "    </tr>\n",
              "    <tr>\n",
              "      <th>1</th>\n",
              "      <td>0.40267</td>\n",
              "      <td>-1.163478</td>\n",
              "      <td>-0.425233</td>\n",
              "      <td>-0.061633</td>\n",
              "      <td>-0.636877</td>\n",
              "      <td>-0.739769</td>\n",
              "      <td>1</td>\n",
              "      <td>-1.450048</td>\n",
              "    </tr>\n",
              "    <tr>\n",
              "      <th>2</th>\n",
              "      <td>0.40267</td>\n",
              "      <td>0.235596</td>\n",
              "      <td>-0.425233</td>\n",
              "      <td>0.458008</td>\n",
              "      <td>-0.636877</td>\n",
              "      <td>-0.739769</td>\n",
              "      <td>1</td>\n",
              "      <td>-1.450048</td>\n",
              "    </tr>\n",
              "    <tr>\n",
              "      <th>3</th>\n",
              "      <td>0.40267</td>\n",
              "      <td>-1.163478</td>\n",
              "      <td>-0.425233</td>\n",
              "      <td>0.977650</td>\n",
              "      <td>-0.636877</td>\n",
              "      <td>-0.739769</td>\n",
              "      <td>1</td>\n",
              "      <td>-1.450048</td>\n",
              "    </tr>\n",
              "    <tr>\n",
              "      <th>4</th>\n",
              "      <td>0.40267</td>\n",
              "      <td>-1.163478</td>\n",
              "      <td>-0.425233</td>\n",
              "      <td>-1.100916</td>\n",
              "      <td>-0.636877</td>\n",
              "      <td>-0.739769</td>\n",
              "      <td>1</td>\n",
              "      <td>-1.450048</td>\n",
              "    </tr>\n",
              "  </tbody>\n",
              "</table>\n",
              "</div>\n",
              "    <div class=\"colab-df-buttons\">\n",
              "\n",
              "  <div class=\"colab-df-container\">\n",
              "    <button class=\"colab-df-convert\" onclick=\"convertToInteractive('df-d3aa4561-fb3c-4356-8251-b00aaa2da162')\"\n",
              "            title=\"Convert this dataframe to an interactive table.\"\n",
              "            style=\"display:none;\">\n",
              "\n",
              "  <svg xmlns=\"http://www.w3.org/2000/svg\" height=\"24px\" viewBox=\"0 -960 960 960\">\n",
              "    <path d=\"M120-120v-720h720v720H120Zm60-500h600v-160H180v160Zm220 220h160v-160H400v160Zm0 220h160v-160H400v160ZM180-400h160v-160H180v160Zm440 0h160v-160H620v160ZM180-180h160v-160H180v160Zm440 0h160v-160H620v160Z\"/>\n",
              "  </svg>\n",
              "    </button>\n",
              "\n",
              "  <style>\n",
              "    .colab-df-container {\n",
              "      display:flex;\n",
              "      gap: 12px;\n",
              "    }\n",
              "\n",
              "    .colab-df-convert {\n",
              "      background-color: #E8F0FE;\n",
              "      border: none;\n",
              "      border-radius: 50%;\n",
              "      cursor: pointer;\n",
              "      display: none;\n",
              "      fill: #1967D2;\n",
              "      height: 32px;\n",
              "      padding: 0 0 0 0;\n",
              "      width: 32px;\n",
              "    }\n",
              "\n",
              "    .colab-df-convert:hover {\n",
              "      background-color: #E2EBFA;\n",
              "      box-shadow: 0px 1px 2px rgba(60, 64, 67, 0.3), 0px 1px 3px 1px rgba(60, 64, 67, 0.15);\n",
              "      fill: #174EA6;\n",
              "    }\n",
              "\n",
              "    .colab-df-buttons div {\n",
              "      margin-bottom: 4px;\n",
              "    }\n",
              "\n",
              "    [theme=dark] .colab-df-convert {\n",
              "      background-color: #3B4455;\n",
              "      fill: #D2E3FC;\n",
              "    }\n",
              "\n",
              "    [theme=dark] .colab-df-convert:hover {\n",
              "      background-color: #434B5C;\n",
              "      box-shadow: 0px 1px 3px 1px rgba(0, 0, 0, 0.15);\n",
              "      filter: drop-shadow(0px 1px 2px rgba(0, 0, 0, 0.3));\n",
              "      fill: #FFFFFF;\n",
              "    }\n",
              "  </style>\n",
              "\n",
              "    <script>\n",
              "      const buttonEl =\n",
              "        document.querySelector('#df-d3aa4561-fb3c-4356-8251-b00aaa2da162 button.colab-df-convert');\n",
              "      buttonEl.style.display =\n",
              "        google.colab.kernel.accessAllowed ? 'block' : 'none';\n",
              "\n",
              "      async function convertToInteractive(key) {\n",
              "        const element = document.querySelector('#df-d3aa4561-fb3c-4356-8251-b00aaa2da162');\n",
              "        const dataTable =\n",
              "          await google.colab.kernel.invokeFunction('convertToInteractive',\n",
              "                                                    [key], {});\n",
              "        if (!dataTable) return;\n",
              "\n",
              "        const docLinkHtml = 'Like what you see? Visit the ' +\n",
              "          '<a target=\"_blank\" href=https://colab.research.google.com/notebooks/data_table.ipynb>data table notebook</a>'\n",
              "          + ' to learn more about interactive tables.';\n",
              "        element.innerHTML = '';\n",
              "        dataTable['output_type'] = 'display_data';\n",
              "        await google.colab.output.renderOutput(dataTable, element);\n",
              "        const docLink = document.createElement('div');\n",
              "        docLink.innerHTML = docLinkHtml;\n",
              "        element.appendChild(docLink);\n",
              "      }\n",
              "    </script>\n",
              "  </div>\n",
              "\n",
              "\n",
              "<div id=\"df-ef24f2f3-51bf-439a-80c1-0655dea908e3\">\n",
              "  <button class=\"colab-df-quickchart\" onclick=\"quickchart('df-ef24f2f3-51bf-439a-80c1-0655dea908e3')\"\n",
              "            title=\"Suggest charts.\"\n",
              "            style=\"display:none;\">\n",
              "\n",
              "<svg xmlns=\"http://www.w3.org/2000/svg\" height=\"24px\"viewBox=\"0 0 24 24\"\n",
              "     width=\"24px\">\n",
              "    <g>\n",
              "        <path d=\"M19 3H5c-1.1 0-2 .9-2 2v14c0 1.1.9 2 2 2h14c1.1 0 2-.9 2-2V5c0-1.1-.9-2-2-2zM9 17H7v-7h2v7zm4 0h-2V7h2v10zm4 0h-2v-4h2v4z\"/>\n",
              "    </g>\n",
              "</svg>\n",
              "  </button>\n",
              "\n",
              "<style>\n",
              "  .colab-df-quickchart {\n",
              "      --bg-color: #E8F0FE;\n",
              "      --fill-color: #1967D2;\n",
              "      --hover-bg-color: #E2EBFA;\n",
              "      --hover-fill-color: #174EA6;\n",
              "      --disabled-fill-color: #AAA;\n",
              "      --disabled-bg-color: #DDD;\n",
              "  }\n",
              "\n",
              "  [theme=dark] .colab-df-quickchart {\n",
              "      --bg-color: #3B4455;\n",
              "      --fill-color: #D2E3FC;\n",
              "      --hover-bg-color: #434B5C;\n",
              "      --hover-fill-color: #FFFFFF;\n",
              "      --disabled-bg-color: #3B4455;\n",
              "      --disabled-fill-color: #666;\n",
              "  }\n",
              "\n",
              "  .colab-df-quickchart {\n",
              "    background-color: var(--bg-color);\n",
              "    border: none;\n",
              "    border-radius: 50%;\n",
              "    cursor: pointer;\n",
              "    display: none;\n",
              "    fill: var(--fill-color);\n",
              "    height: 32px;\n",
              "    padding: 0;\n",
              "    width: 32px;\n",
              "  }\n",
              "\n",
              "  .colab-df-quickchart:hover {\n",
              "    background-color: var(--hover-bg-color);\n",
              "    box-shadow: 0 1px 2px rgba(60, 64, 67, 0.3), 0 1px 3px 1px rgba(60, 64, 67, 0.15);\n",
              "    fill: var(--button-hover-fill-color);\n",
              "  }\n",
              "\n",
              "  .colab-df-quickchart-complete:disabled,\n",
              "  .colab-df-quickchart-complete:disabled:hover {\n",
              "    background-color: var(--disabled-bg-color);\n",
              "    fill: var(--disabled-fill-color);\n",
              "    box-shadow: none;\n",
              "  }\n",
              "\n",
              "  .colab-df-spinner {\n",
              "    border: 2px solid var(--fill-color);\n",
              "    border-color: transparent;\n",
              "    border-bottom-color: var(--fill-color);\n",
              "    animation:\n",
              "      spin 1s steps(1) infinite;\n",
              "  }\n",
              "\n",
              "  @keyframes spin {\n",
              "    0% {\n",
              "      border-color: transparent;\n",
              "      border-bottom-color: var(--fill-color);\n",
              "      border-left-color: var(--fill-color);\n",
              "    }\n",
              "    20% {\n",
              "      border-color: transparent;\n",
              "      border-left-color: var(--fill-color);\n",
              "      border-top-color: var(--fill-color);\n",
              "    }\n",
              "    30% {\n",
              "      border-color: transparent;\n",
              "      border-left-color: var(--fill-color);\n",
              "      border-top-color: var(--fill-color);\n",
              "      border-right-color: var(--fill-color);\n",
              "    }\n",
              "    40% {\n",
              "      border-color: transparent;\n",
              "      border-right-color: var(--fill-color);\n",
              "      border-top-color: var(--fill-color);\n",
              "    }\n",
              "    60% {\n",
              "      border-color: transparent;\n",
              "      border-right-color: var(--fill-color);\n",
              "    }\n",
              "    80% {\n",
              "      border-color: transparent;\n",
              "      border-right-color: var(--fill-color);\n",
              "      border-bottom-color: var(--fill-color);\n",
              "    }\n",
              "    90% {\n",
              "      border-color: transparent;\n",
              "      border-bottom-color: var(--fill-color);\n",
              "    }\n",
              "  }\n",
              "</style>\n",
              "\n",
              "  <script>\n",
              "    async function quickchart(key) {\n",
              "      const quickchartButtonEl =\n",
              "        document.querySelector('#' + key + ' button');\n",
              "      quickchartButtonEl.disabled = true;  // To prevent multiple clicks.\n",
              "      quickchartButtonEl.classList.add('colab-df-spinner');\n",
              "      try {\n",
              "        const charts = await google.colab.kernel.invokeFunction(\n",
              "            'suggestCharts', [key], {});\n",
              "      } catch (error) {\n",
              "        console.error('Error during call to suggestCharts:', error);\n",
              "      }\n",
              "      quickchartButtonEl.classList.remove('colab-df-spinner');\n",
              "      quickchartButtonEl.classList.add('colab-df-quickchart-complete');\n",
              "    }\n",
              "    (() => {\n",
              "      let quickchartButtonEl =\n",
              "        document.querySelector('#df-ef24f2f3-51bf-439a-80c1-0655dea908e3 button');\n",
              "      quickchartButtonEl.style.display =\n",
              "        google.colab.kernel.accessAllowed ? 'block' : 'none';\n",
              "    })();\n",
              "  </script>\n",
              "</div>\n",
              "    </div>\n",
              "  </div>\n"
            ]
          },
          "metadata": {},
          "execution_count": 132
        }
      ]
    },
    {
      "cell_type": "markdown",
      "source": [
        "##El proceso de estandarización mejora la interpretacion de los datos ya que se puede identificar patrones, en este caso categoricos"
      ],
      "metadata": {
        "id": "YXVWc4M2Rn4j"
      }
    },
    {
      "cell_type": "code",
      "source": [
        "import pandas as pd\n",
        "from sklearn.linear_model import LinearRegression\n",
        "from sklearn.model_selection import train_test_split"
      ],
      "metadata": {
        "id": "r4LMfr-TSqr8"
      },
      "execution_count": null,
      "outputs": []
    },
    {
      "cell_type": "markdown",
      "source": [
        "##Primer modelo con datos sin estandarizar\n",
        "\n",
        "Variable respuesta = Hora\n",
        "\n",
        "Variables predictoras = Limite de velocidad, severidad del accidente, año, la policia atendió el accidente."
      ],
      "metadata": {
        "id": "MESeaN3yUbN_"
      }
    },
    {
      "cell_type": "code",
      "source": [
        "#Para el modelo de regresion sin datos estandar se crea copia y se filtra por\n",
        "#datos nos vacios para poder correr el modelo\n",
        "\n",
        "df3 = df.copy()\n",
        "#Se incluye unicamente algunas vars cuantitativas de interes\n",
        "df3 = df3.iloc[:,[6,7,8,10,11,17,28,29,31]]\n",
        "\n",
        "no_vacios = df3.notnull()\n",
        "df3 = df3[no_vacios]"
      ],
      "metadata": {
        "id": "Rz7IokkdYOur"
      },
      "execution_count": null,
      "outputs": []
    },
    {
      "cell_type": "code",
      "source": [
        "# Seleccionamos las variables independientes\n",
        "X = df3[['Speed_limit', 'Accident_Severity', 'Year', 'Did_Police_Officer_Attend_Scene_of_Accident']]\n",
        "\n",
        "# Seleccionamos la variable dependiente\n",
        "y = df3['Time']\n",
        "\n",
        "# Dividimos los datos en un 80% para entrenamiento y un 20% para prueba\n",
        "X_train, X_test, y_train, y_test = train_test_split(X, y, test_size=0.2)"
      ],
      "metadata": {
        "id": "Ziz7Kn1oTST5"
      },
      "execution_count": null,
      "outputs": []
    },
    {
      "cell_type": "code",
      "source": [
        "# Creamos el modelo de regresión lineal múltiple\n",
        "model = LinearRegression()\n",
        "\n",
        "# Entrenamos el modelo con los datos de entrenamiento\n",
        "model.fit(X_train, y_train)"
      ],
      "metadata": {
        "colab": {
          "base_uri": "https://localhost:8080/",
          "height": 357
        },
        "id": "3YU3SSN1XzB7",
        "outputId": "614c8c0d-a8b9-4d0f-84cb-a3f714d3d3dd"
      },
      "execution_count": null,
      "outputs": [
        {
          "output_type": "error",
          "ename": "ValueError",
          "evalue": "ignored",
          "traceback": [
            "\u001b[0;31m---------------------------------------------------------------------------\u001b[0m",
            "\u001b[0;31mValueError\u001b[0m                                Traceback (most recent call last)",
            "\u001b[0;32m<ipython-input-164-f111952aa233>\u001b[0m in \u001b[0;36m<cell line: 5>\u001b[0;34m()\u001b[0m\n\u001b[1;32m      3\u001b[0m \u001b[0;34m\u001b[0m\u001b[0m\n\u001b[1;32m      4\u001b[0m \u001b[0;31m# Entrenamos el modelo con los datos de entrenamiento\u001b[0m\u001b[0;34m\u001b[0m\u001b[0;34m\u001b[0m\u001b[0m\n\u001b[0;32m----> 5\u001b[0;31m \u001b[0mmodel\u001b[0m\u001b[0;34m.\u001b[0m\u001b[0mfit\u001b[0m\u001b[0;34m(\u001b[0m\u001b[0mX_train\u001b[0m\u001b[0;34m,\u001b[0m \u001b[0my_train\u001b[0m\u001b[0;34m)\u001b[0m\u001b[0;34m\u001b[0m\u001b[0;34m\u001b[0m\u001b[0m\n\u001b[0m",
            "\u001b[0;32m/usr/local/lib/python3.10/dist-packages/sklearn/linear_model/_base.py\u001b[0m in \u001b[0;36mfit\u001b[0;34m(self, X, y, sample_weight)\u001b[0m\n\u001b[1;32m    646\u001b[0m         \u001b[0maccept_sparse\u001b[0m \u001b[0;34m=\u001b[0m \u001b[0;32mFalse\u001b[0m \u001b[0;32mif\u001b[0m \u001b[0mself\u001b[0m\u001b[0;34m.\u001b[0m\u001b[0mpositive\u001b[0m \u001b[0;32melse\u001b[0m \u001b[0;34m[\u001b[0m\u001b[0;34m\"csr\"\u001b[0m\u001b[0;34m,\u001b[0m \u001b[0;34m\"csc\"\u001b[0m\u001b[0;34m,\u001b[0m \u001b[0;34m\"coo\"\u001b[0m\u001b[0;34m]\u001b[0m\u001b[0;34m\u001b[0m\u001b[0;34m\u001b[0m\u001b[0m\n\u001b[1;32m    647\u001b[0m \u001b[0;34m\u001b[0m\u001b[0m\n\u001b[0;32m--> 648\u001b[0;31m         X, y = self._validate_data(\n\u001b[0m\u001b[1;32m    649\u001b[0m             \u001b[0mX\u001b[0m\u001b[0;34m,\u001b[0m \u001b[0my\u001b[0m\u001b[0;34m,\u001b[0m \u001b[0maccept_sparse\u001b[0m\u001b[0;34m=\u001b[0m\u001b[0maccept_sparse\u001b[0m\u001b[0;34m,\u001b[0m \u001b[0my_numeric\u001b[0m\u001b[0;34m=\u001b[0m\u001b[0;32mTrue\u001b[0m\u001b[0;34m,\u001b[0m \u001b[0mmulti_output\u001b[0m\u001b[0;34m=\u001b[0m\u001b[0;32mTrue\u001b[0m\u001b[0;34m\u001b[0m\u001b[0;34m\u001b[0m\u001b[0m\n\u001b[1;32m    650\u001b[0m         )\n",
            "\u001b[0;32m/usr/local/lib/python3.10/dist-packages/sklearn/base.py\u001b[0m in \u001b[0;36m_validate_data\u001b[0;34m(self, X, y, reset, validate_separately, **check_params)\u001b[0m\n\u001b[1;32m    582\u001b[0m                 \u001b[0my\u001b[0m \u001b[0;34m=\u001b[0m \u001b[0mcheck_array\u001b[0m\u001b[0;34m(\u001b[0m\u001b[0my\u001b[0m\u001b[0;34m,\u001b[0m \u001b[0minput_name\u001b[0m\u001b[0;34m=\u001b[0m\u001b[0;34m\"y\"\u001b[0m\u001b[0;34m,\u001b[0m \u001b[0;34m**\u001b[0m\u001b[0mcheck_y_params\u001b[0m\u001b[0;34m)\u001b[0m\u001b[0;34m\u001b[0m\u001b[0;34m\u001b[0m\u001b[0m\n\u001b[1;32m    583\u001b[0m             \u001b[0;32melse\u001b[0m\u001b[0;34m:\u001b[0m\u001b[0;34m\u001b[0m\u001b[0;34m\u001b[0m\u001b[0m\n\u001b[0;32m--> 584\u001b[0;31m                 \u001b[0mX\u001b[0m\u001b[0;34m,\u001b[0m \u001b[0my\u001b[0m \u001b[0;34m=\u001b[0m \u001b[0mcheck_X_y\u001b[0m\u001b[0;34m(\u001b[0m\u001b[0mX\u001b[0m\u001b[0;34m,\u001b[0m \u001b[0my\u001b[0m\u001b[0;34m,\u001b[0m \u001b[0;34m**\u001b[0m\u001b[0mcheck_params\u001b[0m\u001b[0;34m)\u001b[0m\u001b[0;34m\u001b[0m\u001b[0;34m\u001b[0m\u001b[0m\n\u001b[0m\u001b[1;32m    585\u001b[0m             \u001b[0mout\u001b[0m \u001b[0;34m=\u001b[0m \u001b[0mX\u001b[0m\u001b[0;34m,\u001b[0m \u001b[0my\u001b[0m\u001b[0;34m\u001b[0m\u001b[0;34m\u001b[0m\u001b[0m\n\u001b[1;32m    586\u001b[0m \u001b[0;34m\u001b[0m\u001b[0m\n",
            "\u001b[0;32m/usr/local/lib/python3.10/dist-packages/sklearn/utils/validation.py\u001b[0m in \u001b[0;36mcheck_X_y\u001b[0;34m(X, y, accept_sparse, accept_large_sparse, dtype, order, copy, force_all_finite, ensure_2d, allow_nd, multi_output, ensure_min_samples, ensure_min_features, y_numeric, estimator)\u001b[0m\n\u001b[1;32m   1120\u001b[0m     )\n\u001b[1;32m   1121\u001b[0m \u001b[0;34m\u001b[0m\u001b[0m\n\u001b[0;32m-> 1122\u001b[0;31m     \u001b[0my\u001b[0m \u001b[0;34m=\u001b[0m \u001b[0m_check_y\u001b[0m\u001b[0;34m(\u001b[0m\u001b[0my\u001b[0m\u001b[0;34m,\u001b[0m \u001b[0mmulti_output\u001b[0m\u001b[0;34m=\u001b[0m\u001b[0mmulti_output\u001b[0m\u001b[0;34m,\u001b[0m \u001b[0my_numeric\u001b[0m\u001b[0;34m=\u001b[0m\u001b[0my_numeric\u001b[0m\u001b[0;34m,\u001b[0m \u001b[0mestimator\u001b[0m\u001b[0;34m=\u001b[0m\u001b[0mestimator\u001b[0m\u001b[0;34m)\u001b[0m\u001b[0;34m\u001b[0m\u001b[0;34m\u001b[0m\u001b[0m\n\u001b[0m\u001b[1;32m   1123\u001b[0m \u001b[0;34m\u001b[0m\u001b[0m\n\u001b[1;32m   1124\u001b[0m     \u001b[0mcheck_consistent_length\u001b[0m\u001b[0;34m(\u001b[0m\u001b[0mX\u001b[0m\u001b[0;34m,\u001b[0m \u001b[0my\u001b[0m\u001b[0;34m)\u001b[0m\u001b[0;34m\u001b[0m\u001b[0;34m\u001b[0m\u001b[0m\n",
            "\u001b[0;32m/usr/local/lib/python3.10/dist-packages/sklearn/utils/validation.py\u001b[0m in \u001b[0;36m_check_y\u001b[0;34m(y, multi_output, y_numeric, estimator)\u001b[0m\n\u001b[1;32m   1145\u001b[0m         \u001b[0m_ensure_no_complex_data\u001b[0m\u001b[0;34m(\u001b[0m\u001b[0my\u001b[0m\u001b[0;34m)\u001b[0m\u001b[0;34m\u001b[0m\u001b[0;34m\u001b[0m\u001b[0m\n\u001b[1;32m   1146\u001b[0m     \u001b[0;32mif\u001b[0m \u001b[0my_numeric\u001b[0m \u001b[0;32mand\u001b[0m \u001b[0my\u001b[0m\u001b[0;34m.\u001b[0m\u001b[0mdtype\u001b[0m\u001b[0;34m.\u001b[0m\u001b[0mkind\u001b[0m \u001b[0;34m==\u001b[0m \u001b[0;34m\"O\"\u001b[0m\u001b[0;34m:\u001b[0m\u001b[0;34m\u001b[0m\u001b[0;34m\u001b[0m\u001b[0m\n\u001b[0;32m-> 1147\u001b[0;31m         \u001b[0my\u001b[0m \u001b[0;34m=\u001b[0m \u001b[0my\u001b[0m\u001b[0;34m.\u001b[0m\u001b[0mastype\u001b[0m\u001b[0;34m(\u001b[0m\u001b[0mnp\u001b[0m\u001b[0;34m.\u001b[0m\u001b[0mfloat64\u001b[0m\u001b[0;34m)\u001b[0m\u001b[0;34m\u001b[0m\u001b[0;34m\u001b[0m\u001b[0m\n\u001b[0m\u001b[1;32m   1148\u001b[0m \u001b[0;34m\u001b[0m\u001b[0m\n\u001b[1;32m   1149\u001b[0m     \u001b[0;32mreturn\u001b[0m \u001b[0my\u001b[0m\u001b[0;34m\u001b[0m\u001b[0;34m\u001b[0m\u001b[0m\n",
            "\u001b[0;31mValueError\u001b[0m: could not convert string to float: '12:22'"
          ]
        }
      ]
    }
  ]
}
